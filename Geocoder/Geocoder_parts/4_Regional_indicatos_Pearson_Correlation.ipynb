{
 "cells": [
  {
   "cell_type": "code",
   "execution_count": 5,
   "metadata": {},
   "outputs": [
    {
     "name": "stderr",
     "output_type": "stream",
     "text": [
      "C:\\ProgramData\\Anaconda3\\lib\\site-packages\\requests\\__init__.py:89: RequestsDependencyWarning: urllib3 (1.26.7) or chardet (3.0.4) doesn't match a supported version!\n",
      "  warnings.warn(\"urllib3 ({}) or chardet ({}) doesn't match a supported \"\n"
     ]
    }
   ],
   "source": [
    "#Invite everyone to the party\n",
    "import pandas as pd\n",
    "import numpy as np\n",
    "import datetime as DT\n",
    "import hmac\n",
    "import geopy\n",
    "from geopy.geocoders import Nominatim\n",
    "from geopy.extra.rate_limiter import RateLimiter\n",
    "import matplotlib.pyplot as plt\n",
    "%matplotlib inline\n",
    "from sqlalchemy import create_engine\n",
    "import pyodbc \n",
    "from geopy import Point\n",
    "from geopy.distance import distance\n",
    "\n"
   ]
  },
  {
   "cell_type": "code",
   "execution_count": 6,
   "metadata": {},
   "outputs": [
    {
     "ename": "OperationalError",
     "evalue": "('08001', '[08001] [Microsoft][SQL Server Native Client 11.0]Named Pipes Provider: Could not open a connection to SQL Server [53].  (53) (SQLDriverConnect); [08001] [Microsoft][SQL Server Native Client 11.0]Login timeout expired (0); [08001] [Microsoft][SQL Server Native Client 11.0]A network-related or instance-specific error has occurred while establishing a connection to SQL Server. Server is not found or not accessible. Check if instance name is correct and if SQL Server is configured to allow remote connections. For more information see SQL Server Books Online. (53)')",
     "output_type": "error",
     "traceback": [
      "\u001b[1;31m---------------------------------------------------------------------------\u001b[0m",
      "\u001b[1;31mOperationalError\u001b[0m                          Traceback (most recent call last)",
      "\u001b[1;32m<ipython-input-6-4b5ca494832e>\u001b[0m in \u001b[0;36m<module>\u001b[1;34m\u001b[0m\n\u001b[0;32m      1\u001b[0m \u001b[1;31m#Connect to the database -- to be changed depending on configuration of the database\u001b[0m\u001b[1;33m\u001b[0m\u001b[1;33m\u001b[0m\u001b[1;33m\u001b[0m\u001b[0m\n\u001b[0;32m      2\u001b[0m \u001b[1;33m\u001b[0m\u001b[0m\n\u001b[1;32m----> 3\u001b[1;33m cnxn = pyodbc.connect(\n\u001b[0m\u001b[0;32m      4\u001b[0m     \u001b[0mTrusted_Connection\u001b[0m\u001b[1;33m=\u001b[0m\u001b[1;34m'Yes'\u001b[0m\u001b[1;33m,\u001b[0m\u001b[1;33m\u001b[0m\u001b[1;33m\u001b[0m\u001b[0m\n\u001b[0;32m      5\u001b[0m     \u001b[0mDriver\u001b[0m\u001b[1;33m=\u001b[0m\u001b[1;34m'{SQL Server Native Client 11.0}'\u001b[0m\u001b[1;33m,\u001b[0m\u001b[1;33m\u001b[0m\u001b[1;33m\u001b[0m\u001b[0m\n",
      "\u001b[1;31mOperationalError\u001b[0m: ('08001', '[08001] [Microsoft][SQL Server Native Client 11.0]Named Pipes Provider: Could not open a connection to SQL Server [53].  (53) (SQLDriverConnect); [08001] [Microsoft][SQL Server Native Client 11.0]Login timeout expired (0); [08001] [Microsoft][SQL Server Native Client 11.0]A network-related or instance-specific error has occurred while establishing a connection to SQL Server. Server is not found or not accessible. Check if instance name is correct and if SQL Server is configured to allow remote connections. For more information see SQL Server Books Online. (53)')"
     ]
    }
   ],
   "source": [
    "\n",
    "#Connect to the database -- to be changed depending on configuration of the database\n",
    "\n",
    "cnxn = pyodbc.connect(\n",
    "    Trusted_Connection='Yes',\n",
    "    Driver='{SQL Server Native Client 11.0}',\n",
    "    Server='SERVER_NAME',\n",
    "    Database='DATABASE_NAME'\n",
    ")\n",
    "\n",
    "cursor = cnxn.cursor()\n"
   ]
  },
  {
   "cell_type": "code",
   "execution_count": 3,
   "metadata": {},
   "outputs": [],
   "source": [
    "###Create region indicators associated with customer indicators table\n",
    "SQL_REGION_CUSTOMER_INDICATORS = \"\"\"select \n",
    "c.Customer_id,\n",
    "Full_name,\n",
    "Customer_type,\n",
    "Is_client_flg,\n",
    "Is_referal,\n",
    "Conversion_volume,\n",
    "Total_activity,\n",
    "Conversion_range,\n",
    "Average_Conversion_time,\n",
    "Avg_All_Income,\n",
    "Median_Wage_income,\n",
    "Median_All_Income,\n",
    "Number_households_1000,\n",
    "Population_density\n",
    "\n",
    " into Customer_Individual_Indicators_X_Region\n",
    "\n",
    "from Customer c\n",
    "left join Customer_individual_indicators i\n",
    "on c.customer_id=i.customer_id\n",
    "left join [dbo].[Region_indicators] r\n",
    "on c.region = r.region_name\n",
    "where i.Customer_id is not null\"\"\""
   ]
  },
  {
   "cell_type": "code",
   "execution_count": null,
   "metadata": {},
   "outputs": [],
   "source": [
    "###analyze impact of individual and regional indicators on conversion volume\n",
    "\n",
    "sql_ind_reg = \"\"\"SELECT * FROM Customer_Individual_Indicators_X_Region\"\"\"\n",
    "\n",
    "ind_reg = pd.read_sql(sql_ind_reg,cnxn)\n",
    "ind_reg.head(11)\n"
   ]
  },
  {
   "cell_type": "code",
   "execution_count": null,
   "metadata": {},
   "outputs": [],
   "source": [
    "\n",
    "##Define number of households as float\n",
    "ind_reg['Number_households_1000'] = ind_reg['Number_households_1000'].astype(float, errors = 'raise')\n"
   ]
  },
  {
   "cell_type": "code",
   "execution_count": null,
   "metadata": {},
   "outputs": [],
   "source": [
    "import seaborn as sns\n",
    "##See all of the correlations between individual indicators\n",
    "df = ind_reg\n",
    "plt.figure(figsize=(14,8))\n",
    "sns.set(style=\"white\")\n",
    "corr = df.corr('pearson')\n",
    "heatmap = sns.heatmap(corr, annot=True, cmap=\"Blues\", fmt='.2%')\n"
   ]
  },
  {
   "cell_type": "code",
   "execution_count": null,
   "metadata": {},
   "outputs": [],
   "source": [
    "\n",
    "##See correlation between conversion time and physical distance\n",
    "\n",
    "df = s_d_indicators.filter(['conversion_time','distance_km'], axis=1)\n",
    "plt.figure(figsize=(14,8))\n",
    "sns.set(style=\"white\")\n",
    "corr = df.corr('pearson')\n",
    "heatmap = sns.heatmap(corr, annot=True, cmap=\"Blues\", fmt='.2%')\n"
   ]
  }
 ],
 "metadata": {
  "kernelspec": {
   "display_name": "Python 3",
   "language": "python",
   "name": "python3"
  },
  "language_info": {
   "codemirror_mode": {
    "name": "ipython",
    "version": 3
   },
   "file_extension": ".py",
   "mimetype": "text/x-python",
   "name": "python",
   "nbconvert_exporter": "python",
   "pygments_lexer": "ipython3",
   "version": "3.8.3"
  }
 },
 "nbformat": 4,
 "nbformat_minor": 4
}

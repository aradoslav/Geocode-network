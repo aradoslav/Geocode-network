{
 "cells": [
  {
   "cell_type": "code",
   "execution_count": null,
   "metadata": {},
   "outputs": [],
   "source": [
    "#Invite everyone to the party\n",
    "import pandas as pd\n",
    "import numpy as np\n",
    "import datetime as DT\n",
    "import hmac\n",
    "import geopy\n",
    "from geopy.geocoders import Nominatim\n",
    "from geopy.extra.rate_limiter import RateLimiter\n",
    "import matplotlib.pyplot as plt\n",
    "%matplotlib inline\n",
    "from sqlalchemy import create_engine\n",
    "import pyodbc \n",
    "from geopy import Point\n",
    "from geopy.distance import distance\n",
    "\n"
   ]
  },
  {
   "cell_type": "code",
   "execution_count": null,
   "metadata": {},
   "outputs": [],
   "source": [
    "\n",
    "#Connect to the database -- to be changed depending on configuration of the database\n",
    "\n",
    "cnxn = pyodbc.connect(\n",
    "    Trusted_Connection='Yes',\n",
    "    Driver='{SQL Server Native Client 11.0}',\n",
    "    Server='SERVER_NAME',\n",
    "    Database='DATABASE_NAME'\n",
    ")\n",
    "\n",
    "cursor = cnxn.cursor()\n"
   ]
  },
  {
   "cell_type": "code",
   "execution_count": null,
   "metadata": {},
   "outputs": [],
   "source": [
    "###Define dataframe for geocoded leads\n",
    "customer_leads_g_query = \"\"\"SELECT [Customer_id]\n",
    "      ,[Full_name]\n",
    "      ,[Customer_type]\n",
    "      ,[Is_client_flg]\n",
    "      ,[Is_referal]\n",
    "      ,[Ref_Customer_id]\n",
    "      ,[Country]\n",
    "      ,[Region]\n",
    "      ,[City]\n",
    "      ,[Street]\n",
    "      ,[Street_nr]\n",
    "      ,[Activation_date]\n",
    "      ,[Contact_phone]\n",
    "      ,[Contact_email]\n",
    "      ,[Acc_mgr_id]\n",
    "      ,[Acc_mgr_name]\n",
    "      ,[Full_address]\n",
    "      ,[Lead_lat]\n",
    "      ,[Lead_long]\n",
    "      ,[Lead_address]\n",
    "  FROM [DATABASE_NAME].[dbo].[Customer_leads_geocoded]\"\"\"\n",
    "\n",
    "\n",
    "\n",
    "customer_leads_g = pd.read_sql(customer_leads_g_query,cnxn)\n",
    "\n",
    "customer_leads_g.head()"
   ]
  },
  {
   "cell_type": "code",
   "execution_count": null,
   "metadata": {},
   "outputs": [],
   "source": [
    "##Define dataframe for geocoded customers\n",
    "\n",
    "customer_g_query = \"\"\"SELECT [Customer_id]\n",
    "      ,[Full_name]\n",
    "      ,[Customer_type]\n",
    "      ,[Is_client_flg]\n",
    "      ,[Is_referal]\n",
    "      ,[Ref_Customer_id]\n",
    "      ,[Country]\n",
    "      ,[Region]\n",
    "      ,[City]\n",
    "      ,[Street]\n",
    "      ,[Street_nr]\n",
    "      ,[Activation_date]\n",
    "      ,[Contact_phone]\n",
    "      ,[Contact_email]\n",
    "      ,[Acc_mgr_id]\n",
    "      ,[Acc_mgr_name]\n",
    "      ,[full_address]\n",
    "      ,[customer_lat]\n",
    "      ,[customer_long]\n",
    "      ,[customer_address]\n",
    "  FROM [DATABASE_NAME].[dbo].[Customer_geocoded]\n",
    "  where customer_type='Person'\"\"\"\n",
    "\n",
    "\n",
    "customer_g = pd.read_sql(customer_g_query,cnxn)\n",
    "\n",
    "customer_g.head()\n"
   ]
  },
  {
   "cell_type": "code",
   "execution_count": null,
   "metadata": {},
   "outputs": [],
   "source": [
    "###Carthesian product of leads and customer \n",
    "\n",
    "customer_g['key'] = 0\n",
    "customer_leads_g['key'] = 0\n",
    "\n",
    "customer_lead_map = customer_g.merge(customer_leads_g, on='key', how='outer',suffixes=('_C','_L'))\n",
    "\n",
    "customer_lead_map.head(5)"
   ]
  },
  {
   "cell_type": "code",
   "execution_count": null,
   "metadata": {},
   "outputs": [],
   "source": [
    "##Cleanup the data\n",
    "customer_lead_map = customer_lead_map[customer_lead_map['Lead_lat'].notna()]\n",
    "customer_lead_map = customer_lead_map[customer_lead_map['customer_lat'].notna()]"
   ]
  },
  {
   "cell_type": "code",
   "execution_count": null,
   "metadata": {},
   "outputs": [],
   "source": [
    "##Calculate_Distance between Customer and Lead\n",
    "from geopy import Point\n",
    "from geopy.distance import distance\n",
    "customer_lead_map['s_point'] = customer_lead_map.apply(lambda row: Point(latitude=row['customer_lat'], \n",
    "                                                                           longitude=row['customer_long']), axis=1)\n",
    "\n",
    "customer_lead_map['d_point'] = customer_lead_map.apply(lambda row: Point(latitude=row['Lead_lat'], \n",
    "                                                                           longitude=row['Lead_long']), axis=1)\n",
    "\n",
    "\n",
    "customer_lead_map['distance_km'] = customer_lead_map.apply(lambda row: distance(row['s_point'], row['d_point']).km if row['d_point'] is not None else float('nan'), axis=1)\n",
    "\n",
    "\n",
    "\n",
    "customer_lead_map.head()\n"
   ]
  },
  {
   "cell_type": "code",
   "execution_count": null,
   "metadata": {},
   "outputs": [],
   "source": [
    "\n",
    "##Export Customer_Lead_mapping - and create it in database\n",
    "customer_lead_map.to_csv (r'file/path', index = False) # place 'r' before the path name\n",
    "\n"
   ]
  },
  {
   "cell_type": "code",
   "execution_count": null,
   "metadata": {},
   "outputs": [],
   "source": [
    "###SQL for tables\n",
    "\n",
    "SQL_PIONEERS = \"\"\"\n",
    "\n",
    "select \n",
    "customer_id,\n",
    "[Full_name_C],\n",
    "[Region_C],\n",
    "[City_C],\n",
    "[Street_C],\n",
    "[Street_nr_C],\n",
    "[full_address],\n",
    "[Contact_phone_C],\n",
    "[Contact_email_C],\n",
    "[Acc_mgr_id_C],\n",
    "[Acc_mgr_name_C],\n",
    "[customer_lat],\n",
    "[customer_long],\n",
    "[customer_address],\n",
    "avg(cast (distance_km as float)) as Average_Distance,\n",
    "count(distinct lead_id) as Nr_leads\n",
    "\n",
    "into Customer_Pioneers\n",
    "\n",
    "from [dbo].[Customer_Lead_relationship_Geocoded]\n",
    "where cast (distance_km as float) < 1\n",
    "--Filter for region\n",
    "--and [Region_C]='Waikato'\n",
    "group by \n",
    "customer_id,\n",
    "[Full_name_C],\n",
    "[Region_C],\n",
    "[City_C],\n",
    "[Street_C],\n",
    "[Street_nr_C],\n",
    "[full_address],\n",
    "[Contact_phone_C],\n",
    "[Contact_email_C],\n",
    "[Acc_mgr_id_C],\n",
    "[Acc_mgr_name_C],\n",
    "[customer_lat],\n",
    "[customer_long],\n",
    "[customer_address]\n",
    "having count(distinct lead_id) > 5\n",
    "\n",
    "\"\"\""
   ]
  },
  {
   "cell_type": "code",
   "execution_count": null,
   "metadata": {},
   "outputs": [],
   "source": [
    "###Define pioneers dataframe from sql\n",
    "\n",
    "pioneers_lead_map_query = \"\"\"select * from Pioneers_Leads_MAP\"\"\"\n",
    "\n",
    "\n",
    "pioneers_lead_map = pd.read_sql(pioneers_lead_map_query,cnxn)\n",
    "\n",
    "pioneers_lead_map.head()"
   ]
  },
  {
   "cell_type": "code",
   "execution_count": null,
   "metadata": {},
   "outputs": [],
   "source": [
    "SQL_PIONEERS_MAP = \"\"\"select * into Pioneers_Leads_MAP\n",
    " from Customer_Pioneers_Lead_relationship\n",
    "where [Customer_id] in (select Customer_id from [dbo].[Customer_Pioneers])\n",
    "and cast (distance_km as float) < 1\"\"\""
   ]
  },
  {
   "cell_type": "code",
   "execution_count": null,
   "metadata": {},
   "outputs": [],
   "source": [
    "##Export Pioneer_Lead map and import into the table above\n",
    "pioneers_lead_map.to_csv (r'file_path / Pioneer_Lead_MAP.csv', index = False) # place 'r' before the path name\n"
   ]
  },
  {
   "cell_type": "code",
   "execution_count": null,
   "metadata": {},
   "outputs": [],
   "source": []
  }
 ],
 "metadata": {
  "kernelspec": {
   "display_name": "Python 3",
   "language": "python",
   "name": "python3"
  },
  "language_info": {
   "codemirror_mode": {
    "name": "ipython",
    "version": 3
   },
   "file_extension": ".py",
   "mimetype": "text/x-python",
   "name": "python",
   "nbconvert_exporter": "python",
   "pygments_lexer": "ipython3",
   "version": "3.8.3"
  }
 },
 "nbformat": 4,
 "nbformat_minor": 4
}

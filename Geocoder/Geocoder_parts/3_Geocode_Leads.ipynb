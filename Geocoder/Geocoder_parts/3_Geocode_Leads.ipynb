{
 "cells": [
  {
   "cell_type": "code",
   "execution_count": null,
   "metadata": {},
   "outputs": [],
   "source": [
    "#Invite everyone to the party\n",
    "import pandas as pd\n",
    "import numpy as np\n",
    "import datetime as DT\n",
    "import hmac\n",
    "import geopy\n",
    "from geopy.geocoders import Nominatim\n",
    "from geopy.extra.rate_limiter import RateLimiter\n",
    "import matplotlib.pyplot as plt\n",
    "%matplotlib inline\n",
    "from sqlalchemy import create_engine\n",
    "import pyodbc \n",
    "from geopy import Point\n",
    "from geopy.distance import distance\n",
    "\n"
   ]
  },
  {
   "cell_type": "code",
   "execution_count": null,
   "metadata": {},
   "outputs": [],
   "source": [
    "\n",
    "#Connect to the database -- to be changed depending on configuration of the database\n",
    "\n",
    "cnxn = pyodbc.connect(\n",
    "    Trusted_Connection='Yes',\n",
    "    Driver='{SQL Server Native Client 11.0}',\n",
    "    Server='SERVER_NAME',\n",
    "    Database='DATABASE_NAME'\n",
    ")\n",
    "\n",
    "cursor = cnxn.cursor()\n"
   ]
  },
  {
   "cell_type": "code",
   "execution_count": null,
   "metadata": {},
   "outputs": [],
   "source": [
    "#Geocode Leads\n",
    "#Define leads\n",
    "\n",
    "sql_customer_leads = \"\"\"SELECT [Customer_id]\n",
    "      ,[Full_name]\n",
    "      ,[Customer_type]\n",
    "      ,[Is_client_flg]\n",
    "      ,[Is_referal]\n",
    "      ,[Ref_Customer_id]\n",
    "      ,[Country]\n",
    "      ,[Region]\n",
    "      ,[City]\n",
    "      ,[Street]\n",
    "      ,[Street_nr]\n",
    "      ,[Activation_date]\n",
    "      ,[Contact_phone]\n",
    "      ,[Contact_email]\n",
    "      ,[Acc_mgr_id]\n",
    "      ,[Acc_mgr_name]\n",
    "  FROM [DATABASE_NAME].[dbo].[Customer_Leads]\"\"\"\n",
    "\n",
    "\n",
    "customer_leads = pd.read_sql(sql_customer_leads,cnxn)\n",
    "\n",
    "#Define full address\n",
    "customer_leads['Full_address'] = customer_leads['Country'] + \",\"+ customer_leads['Region'] + \",\"+ customer_leads['City'] + \",\"+ customer_leads['Street'] + \",\"+ customer_leads['Street_nr'] + \" \" \n",
    "\n"
   ]
  },
  {
   "cell_type": "code",
   "execution_count": null,
   "metadata": {},
   "outputs": [],
   "source": [
    "\n",
    "##Geocode leads\n",
    "\n",
    "geolocator = Nominatim(user_agent=\"myApp\")\n",
    "\n",
    "for i in customer_leads.index:\n",
    "    try:\n",
    "        #tries fetch address from geopy\n",
    "        location = geolocator.geocode(customer_leads['Full_address'][i])\n",
    "        \n",
    "        #append lat/long to column using dataframe location\n",
    "        customer_leads.loc[i,'Lead_lat'] = location.latitude\n",
    "        customer_leads.loc[i,'Lead_long'] = location.longitude\n",
    "        customer_leads.loc[i,'Lead_address'] = location.address\n",
    "    except:\n",
    "        #catches exception for the case where no value is returned\n",
    "        #appends null value to column\n",
    "        customer_leads.loc[i,'Lead_lat'] = \"\"\n",
    "        customer_leads.loc[i,'Lead_long'] = \"\"\n",
    "        customer_leads.loc[i,'Lead_address'] = \"\"\n",
    "\n",
    "#print first rows as sample\n",
    "customer_leads.head()\n",
    "\n"
   ]
  },
  {
   "cell_type": "code",
   "execution_count": null,
   "metadata": {},
   "outputs": [],
   "source": [
    "###Create geocoded leads table\n",
    "\n",
    "SQL_G_LEADS = \"\"\"CREATE TABLE [dbo].[Customer_leads_geocoded](\n",
    "\t[Customer_id] [int] NOT NULL,\n",
    "\t[Full_name] [nvarchar](50) NULL,\n",
    "\t[Customer_type] [nvarchar](50) NULL,\n",
    "\t[Is_client_flg] [int] NULL,\n",
    "\t[Is_referal] [int] NULL,\n",
    "\t[Ref_Customer_id] [int] NULL,\n",
    "\t[Country] [nvarchar](50) NULL,\n",
    "\t[Region] [nvarchar](50) NULL,\n",
    "\t[City] [nvarchar](50) NULL,\n",
    "\t[Street] [nvarchar](50) NULL,\n",
    "\t[Street_nr] [int] NULL,\n",
    "\t[Activation_date] [datetime] NULL,\n",
    "\t[Contact_phone] [nvarchar](50) NULL,\n",
    "\t[Contact_email] [nvarchar](300) NULL,\n",
    "\t[Acc_mgr_id] [int] NULL,\n",
    "\t[Acc_mgr_name] [nvarchar](300) NULL,\n",
    "\t[Full_address] [nvarchar](100) NULL,\n",
    "\t[Lead_lat] [float] NULL,\n",
    "\t[Lead_long] [float] NULL,\n",
    "\t[Lead_address] [nvarchar](150) NULL,\n",
    " CONSTRAINT [PK_Customer_leads_geocoded] PRIMARY KEY CLUSTERED \n",
    "(\n",
    "\t[Customer_id] ASC\n",
    ")WITH (PAD_INDEX = OFF, STATISTICS_NORECOMPUTE = OFF, IGNORE_DUP_KEY = OFF, ALLOW_ROW_LOCKS = ON, ALLOW_PAGE_LOCKS = ON, OPTIMIZE_FOR_SEQUENTIAL_KEY = OFF) ON [PRIMARY]\n",
    ") ON [PRIMARY]\n",
    "\"\"\""
   ]
  },
  {
   "cell_type": "code",
   "execution_count": null,
   "metadata": {},
   "outputs": [],
   "source": [
    "\n",
    "##Export leads and import them in the Customer_Leads_geocoded table\n",
    "customer_leads.to_csv (r'file/path', index = False) # place 'r' before the path name\n",
    "\n"
   ]
  }
 ],
 "metadata": {
  "kernelspec": {
   "display_name": "Python 3",
   "language": "python",
   "name": "python3"
  },
  "language_info": {
   "codemirror_mode": {
    "name": "ipython",
    "version": 3
   },
   "file_extension": ".py",
   "mimetype": "text/x-python",
   "name": "python",
   "nbconvert_exporter": "python",
   "pygments_lexer": "ipython3",
   "version": "3.8.3"
  }
 },
 "nbformat": 4,
 "nbformat_minor": 4
}

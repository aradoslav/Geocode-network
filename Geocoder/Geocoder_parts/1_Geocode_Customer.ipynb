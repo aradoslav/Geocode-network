{
 "cells": [
  {
   "cell_type": "code",
   "execution_count": null,
   "metadata": {},
   "outputs": [],
   "source": [
    "#Invite everyone to the party\n",
    "import pandas as pd\n",
    "import numpy as np\n",
    "import datetime as DT\n",
    "import hmac\n",
    "import geopy\n",
    "from geopy.geocoders import Nominatim\n",
    "from geopy.extra.rate_limiter import RateLimiter\n",
    "import matplotlib.pyplot as plt\n",
    "%matplotlib inline\n",
    "from sqlalchemy import create_engine\n",
    "import pyodbc \n",
    "from geopy import Point\n",
    "from geopy.distance import distance\n",
    "\n"
   ]
  },
  {
   "cell_type": "code",
   "execution_count": null,
   "metadata": {},
   "outputs": [],
   "source": [
    "\n",
    "#Connect to the database -- to be changed depending on configuration of the database\n",
    "\n",
    "cnxn = pyodbc.connect(\n",
    "    Trusted_Connection='Yes',\n",
    "    Driver='{SQL Server Native Client 11.0}',\n",
    "    Server='SERVER_NAME',\n",
    "    Database='DATABASE_NAME'\n",
    ")\n",
    "\n",
    "cursor = cnxn.cursor()\n"
   ]
  },
  {
   "cell_type": "code",
   "execution_count": null,
   "metadata": {},
   "outputs": [],
   "source": [
    "###Define customer dataframe\n",
    "sql_customer = \"\"\"SELECT [Customer_id]\n",
    "      ,[Full_name]\n",
    "      ,[Customer_type]\n",
    "      ,[Is_client_flg]\n",
    "      ,[Is_referal]\n",
    "      ,[Ref_Customer_id]\n",
    "      ,[Country]\n",
    "      ,[Region]\n",
    "      ,[City]\n",
    "      ,[Street]\n",
    "      ,[Street_nr]\n",
    "      ,[Activation_date]\n",
    "      ,[Contact_phone]\n",
    "      ,[Contact_email]\n",
    "      ,[Acc_mgr_id]\n",
    "      ,[Acc_mgr_name]\n",
    "  FROM [dbo].[Customer]\"\"\"\n",
    "\n",
    "customer = pd.read_sql(sql_customer,cnxn)\n",
    "customer.head()\n",
    "\n",
    "customer['full_address'] = customer['Country'] + \",\"+ customer['Region'] + \",\"+ customer['City'] + \",\"+ customer['Street'] + \",\"+ customer['Street_nr'] + \" \" \n",
    "\n",
    "customer.head()\n",
    "\n"
   ]
  },
  {
   "cell_type": "code",
   "execution_count": null,
   "metadata": {},
   "outputs": [],
   "source": [
    "\n",
    "\n",
    "###Cleaning the data\n",
    "customer = customer.replace(to_replace='None', value=np.nan).dropna()\n",
    "\n"
   ]
  },
  {
   "cell_type": "code",
   "execution_count": null,
   "metadata": {},
   "outputs": [],
   "source": [
    "#Geocode customer---takes a while\n",
    "geolocator = Nominatim(user_agent=\"myApp\")\n",
    "\n",
    "for i in customer.index:\n",
    "    try:\n",
    "        #tries fetch address from geopy\n",
    "        location = geolocator.geocode(customer['full_address'][i])\n",
    "        \n",
    "        #append lat/long to column using dataframe location\n",
    "        customer.loc[i,'customer_lat'] = location.latitude\n",
    "        customer.loc[i,'customer_long'] = location.longitude\n",
    "        customer.loc[i,'customer_address'] = location.address\n",
    "    except:\n",
    "        #catches exception for the case where no value is returned\n",
    "        #appends null value to column\n",
    "        customer.loc[i,'customer_lat'] = \"\"\n",
    "        customer.loc[i,'customer_long'] = \"\"\n",
    "        customer.loc[i,'customer_address'] = \"\"\n",
    "\n",
    "#print first rows as sample\n",
    "customer.head()"
   ]
  },
  {
   "cell_type": "code",
   "execution_count": null,
   "metadata": {},
   "outputs": [],
   "source": [
    "##Import this CSV into SQL database\n",
    "customer.to_csv (r'file path', index = False) # place 'r' before the path name\n",
    "\n"
   ]
  }
 ],
 "metadata": {
  "kernelspec": {
   "display_name": "Python 3",
   "language": "python",
   "name": "python3"
  },
  "language_info": {
   "codemirror_mode": {
    "name": "ipython",
    "version": 3
   },
   "file_extension": ".py",
   "mimetype": "text/x-python",
   "name": "python",
   "nbconvert_exporter": "python",
   "pygments_lexer": "ipython3",
   "version": "3.8.3"
  }
 },
 "nbformat": 4,
 "nbformat_minor": 4
}
